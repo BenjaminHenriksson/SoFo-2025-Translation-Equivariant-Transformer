{
 "cells": [
  {
   "cell_type": "code",
   "execution_count": 5,
   "metadata": {},
   "outputs": [],
   "source": [
    "using DLProteinFormats\n",
    "\n",
    "data = DLProteinFormats.load(PDBSimpleFlat500)\n",
    "\n",
    "flat_chains = data[1]\n",
    "\n",
    "chains = DLProteinFormats.unflatten(\n",
    "    flat_chains.locs,\n",
    "    flat_chains.rots,\n",
    "    flat_chains.AAs,\n",
    "    flat_chains.chainids,\n",
    "    flat_chains.resinds)\n",
    "\n",
    "DLProteinFormats.writepdb(\"chains-1.pdb\", chains)"
   ]
  }
 ],
 "metadata": {
  "kernelspec": {
   "display_name": "Julia 1.11.5",
   "language": "julia",
   "name": "julia-1.11"
  },
  "language_info": {
   "file_extension": ".jl",
   "mimetype": "application/julia",
   "name": "julia",
   "version": "1.11.5"
  }
 },
 "nbformat": 4,
 "nbformat_minor": 2
}
