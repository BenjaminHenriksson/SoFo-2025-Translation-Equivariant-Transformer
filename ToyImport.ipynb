{
 "cells": [
  {
   "cell_type": "code",
   "execution_count": 2,
   "metadata": {},
   "outputs": [
    {
     "name": "stderr",
     "output_type": "stream",
     "text": [
      "WARNING: replacing module DLProteinFormats.\n"
     ]
    }
   ],
   "source": [
    "include(\"DLProteinFormats/src/DLProteinFormats.jl\")\n",
    "include(\"DLProteinFormats/src/datasets.jl\")\n",
    "\n",
    "data = load(PDBSimpleFlat500)\n",
    "\n",
    "flat_chains = data[1]\n",
    "\n",
    "chains = DLProteinFormats.unflatten(\n",
    "    flat_chains.locs,\n",
    "    flat_chains.rots,\n",
    "    flat_chains.AAs,\n",
    "    flat_chains.chainids,\n",
    "    flat_chains.resinds)\n",
    "\n",
    "DLProteinFormats.writepdb(\"chains-1.pdb\", chains)"
   ]
  }
 ],
 "metadata": {
  "kernelspec": {
   "display_name": "Julia 1.11.5",
   "language": "julia",
   "name": "julia-1.11"
  },
  "language_info": {
   "file_extension": ".jl",
   "mimetype": "application/julia",
   "name": "julia",
   "version": "1.11.5"
  }
 },
 "nbformat": 4,
 "nbformat_minor": 2
}
