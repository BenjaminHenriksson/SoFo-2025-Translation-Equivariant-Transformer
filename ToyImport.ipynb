{
 "cells": [
  {
   "cell_type": "code",
   "execution_count": 19,
   "metadata": {},
   "outputs": [
    {
     "ename": "SystemError",
     "evalue": "SystemError: opening file \"DLProteinFormats\": No such file or directory",
     "output_type": "error",
     "traceback": [
      "SystemError: opening file \"DLProteinFormats\": No such file or directory\n",
      "\n",
      "Stacktrace:\n",
      " [1] include(fname::String)\n",
      "   @ Main .\\sysimg.jl:38\n",
      " [2] top-level scope\n",
      "   @ jl_notebook_cell_df34fa98e69747e1a8f8a730347b8e2f_W0sdW50aXRsZWQ=.jl:1"
     ]
    }
   ],
   "source": [
    "include(\"DLProteinFormats\")\n",
    "\n",
    "data = DLProteinFormats.load(PBDSimpleFlat500)\n",
    "\n",
    "flat_chains = data[1]\n",
    "\n",
    "chains = DLProteinFormats.unflatten(\n",
    "    flat_chains.locs,\n",
    "    flat_chains.rots,\n",
    "    flat_chains.AAs,\n",
    "    flat_chains.chainids,\n",
    "    flat_chains.resinds)\n",
    "\n",
    "DLProteinFormats.writepdb(\"chains-1.pdb\", chains)"
   ]
  }
 ],
 "metadata": {
  "kernelspec": {
   "display_name": "Julia 1.11.5",
   "language": "julia",
   "name": "julia-1.11"
  },
  "language_info": {
   "file_extension": ".jl",
   "mimetype": "application/julia",
   "name": "julia",
   "version": "1.11.5"
  }
 },
 "nbformat": 4,
 "nbformat_minor": 2
}
