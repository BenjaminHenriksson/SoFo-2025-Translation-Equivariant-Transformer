{
 "cells": [
  {
   "cell_type": "markdown",
   "id": "a00d0f14",
   "metadata": {},
   "source": [
    "## Set up dependencies"
   ]
  },
  {
   "cell_type": "code",
   "execution_count": 25,
   "id": "ab8ac473",
   "metadata": {},
   "outputs": [
    {
     "name": "stderr",
     "output_type": "stream",
     "text": [
      "\u001b[32m\u001b[1m  Activating\u001b[22m\u001b[39m project at `c:\\Users\\User\\Desktop\\SoFo\\code\\SoFo-2025-Translation-Equivariant-Transformer`\n",
      "\u001b[32m\u001b[1m   Resolving\u001b[22m\u001b[39m package versions...\n",
      "\u001b[32m\u001b[1m  No Changes\u001b[22m\u001b[39m to `C:\\Users\\User\\Desktop\\SoFo\\code\\SoFo-2025-Translation-Equivariant-Transformer\\Project.toml`\n",
      "\u001b[32m\u001b[1m  No Changes\u001b[22m\u001b[39m to `C:\\Users\\User\\Desktop\\SoFo\\code\\SoFo-2025-Translation-Equivariant-Transformer\\Manifest.toml`\n"
     ]
    }
   ],
   "source": [
    "using Pkg; Pkg.activate(\"..\")\n",
    "\n",
    "Pkg.add([\"ProteinChains\", \"BSON\", \"Flux\", \"ConcreteStructs\", \"ChainRulesCore\", \"Einops\", \"RandomFeatureMaps\"])\n",
    "\n",
    "using Onion, ProteinChains, BSON, Flux, ConcreteStructs, ChainRulesCore, Einops, RandomFeatureMaps"
   ]
  },
  {
   "cell_type": "markdown",
   "id": "9cdefbba",
   "metadata": {},
   "source": [
    "## Load Dataset"
   ]
  },
  {
   "cell_type": "code",
   "execution_count": 26,
   "id": "481ef83e",
   "metadata": {},
   "outputs": [],
   "source": [
    "# All different types of atoms (orderd tuple per amino acid)\n",
    "ATOM_TYPES = String[\"C\", \"CA\", \"CB\", \"CD\", \"CD1\", \"CD2\", \"CE\", \"CE1\", \"CE2\", \"CE3\", \"CG\", \"CG1\", \"CG2\", \"CH2\", \"CZ\", \"CZ2\", \"CZ3\", \"H\", \"H1\", \"H2\", \"H3\", \"HA\", \"HA2\", \"HA3\", \"HB\", \"HB1\", \"HB2\", \"HB3\", \"HD1\", \"HD11\", \"HD12\", \"HD13\", \"HD2\", \"HD21\", \"HD22\", \"HD23\", \"HD3\", \"HE\", \"HE1\", \"HE2\", \"HE21\", \"HE22\", \"HE3\", \"HG\", \"HG1\", \"HG11\", \"HG12\", \"HG13\", \"HG2\", \"HG21\", \"HG22\", \"HG23\", \"HG3\", \"HH\", \"HH11\", \"HH12\", \"HH2\", \"HH21\", \"HH22\", \"HZ\", \"HZ1\", \"HZ2\", \"HZ3\", \"N\", \"ND1\", \"ND2\", \"NE\", \"NE1\", \"NE2\", \"NH1\", \"NH2\", \"NZ\", \"O\", \"OD1\", \"OD2\", \"OE1\", \"OE2\", \"OG\", \"OG1\", \"OH\", \"OXT\", \"SD\", \"SG\"]\n",
    "AA_TO_ATOMS = Dict(\"Q\" => [\"C\", \"CA\", \"CB\", \"CD\", \"CG\", \"N\", \"NE2\", \"O\", \"OE1\"], \"W\" => [\"C\", \"CA\", \"CB\", \"CD1\", \"CD2\", \"CE2\", \"CE3\", \"CG\", \"CH2\", \"CZ2\", \"CZ3\", \"N\", \"NE1\", \"O\"], \"T\" => [\"C\", \"CA\", \"CB\", \"CG2\", \"N\", \"O\", \"OG1\"], \"P\" => [\"C\", \"CA\", \"CB\", \"CD\", \"CG\", \"N\", \"O\"], \"C\" => [\"C\", \"CA\", \"CB\", \"N\", \"O\", \"SG\"], \"V\" => [\"C\", \"CA\", \"CB\", \"CG1\", \"CG2\", \"N\", \"O\"], \"L\" => [\"C\", \"CA\", \"CB\", \"CD1\", \"CD2\", \"CG\", \"N\", \"O\"], \"M\" => [\"C\", \"CA\", \"CB\", \"CE\", \"CG\", \"N\", \"O\", \"SD\"], \"N\" => [\"C\", \"CA\", \"CB\", \"CG\", \"N\", \"ND2\", \"O\", \"OD1\"], \"H\" => [\"C\", \"CA\", \"CB\", \"CD2\", \"CE1\", \"CG\", \"N\", \"ND1\", \"NE2\", \"O\"], \"A\" => [\"C\", \"CA\", \"CB\", \"N\", \"O\"], \"X\" => [\"C\", \"CA\", \"CB\", \"N\", \"O\"], \"D\" => [\"C\", \"CA\", \"CB\", \"CG\", \"N\", \"O\", \"OD1\", \"OD2\"], \"G\" => [\"C\", \"CA\", \"N\", \"O\"], \"E\" => [\"C\", \"CA\", \"CB\", \"CD\", \"CG\", \"N\", \"O\", \"OE1\", \"OE2\"], \"Y\" => [\"C\", \"CA\", \"CB\", \"CD1\", \"CD2\", \"CE1\", \"CE2\", \"CG\", \"CZ\", \"N\", \"O\", \"OH\"], \"I\" => [\"C\", \"CA\", \"CB\", \"CD1\", \"CG1\", \"CG2\", \"N\", \"O\"], \"S\" => [\"C\", \"CA\", \"CB\", \"N\", \"O\", \"OG\"], \"K\" => [\"C\", \"CA\", \"CB\", \"CD\", \"CE\", \"CG\", \"N\", \"NZ\", \"O\"], \"R\" => [\"C\", \"CA\", \"CB\", \"CD\", \"CG\", \"CZ\", \"N\", \"NE\", \"NH1\", \"NH2\", \"O\"], \"F\" => [\"C\", \"CA\", \"CB\", \"CD1\", \"CD2\", \"CE1\", \"CE2\", \"CG\", \"CZ\", \"N\", \"O\"])\n",
    "\n",
    "BSON.@load \"./pdb500_allatom.bson\" allatom_dataset;"
   ]
  },
  {
   "cell_type": "markdown",
   "id": "799e4f5c",
   "metadata": {},
   "source": [
    "## Model"
   ]
  },
  {
   "cell_type": "code",
   "execution_count": 27,
   "id": "d2aea130",
   "metadata": {},
   "outputs": [],
   "source": [
    "struct AllAtomModel{L}\n",
    "    layers::L\n",
    "end\n",
    "\n",
    "Flux.@layer AllAtomModel\n",
    "\n",
    "# Initialization\n",
    "function AllAtomModel(embed_dim::Int, num_layers::Int, num_heads::Int)\n",
    "    # allatom_dataset[1] |> propertynames === (:chainids, :AAs, :backbone_xyz, :atom_xyz, :atom_res, :atom_name)\n",
    "        \n",
    "    layers = (;\n",
    "        # -------- Layers for both start --------\n",
    "        AA_type_encoder = RandomFourierFeatures(21 => embed_dim, 1f0),\n",
    "        \n",
    "        cross_attention_layers = [Attention(embed_dim, num_heads) for _ in 1:num_layers],\n",
    "        # -------- Layers for both end --------\n",
    "\n",
    "\n",
    "        # -------- Atom stack start --------\n",
    "        atom_type_encoder = RandomFourierFeatures(length(ATOM_TYPES) => embed_dim, 1f0),\n",
    "        \n",
    "        atom_transformers = [NaiveTransformerBlock(embed_dim, num_heads, 3) for _ in 1:num_layers],\n",
    "        # -------- Atom stack end --------\n",
    "\n",
    "\n",
    "        # -------- Backbone stack start --------\n",
    "        \n",
    "        backbone_transformers = [NaiveTransformerBlock(embed_dim, num_heads, 3) for _ in 1:num_layers],\n",
    "        AA_idx_encoder = RandomFourierFeatures(n_AAs => embed_dim, 1f0),\n",
    "\n",
    "        # -------- Backbone stack end --------\n",
    "\n",
    "\n",
    "        # Seems fine atm\n",
    "        output_layer = Dense(embed_dim => 3),\n",
    "\n",
    "    )   \n",
    "    return AllAtomModel(layers)\n",
    "end\n",
    "\n",
    "# Forward / backward pass\n",
    "function (model::AllAtomModel)(AAs_res, AAs_atom, backbone_xyz, atom_xyz, atom_name)\n",
    "    l = model.layers\n",
    "\n",
    "    # Residue embeddings\n",
    "    backbones_centroid = mean(backbone_xyz, dims=1)\n",
    "\n",
    "    # RFF encode offset from backbones_centroid\n",
    "    x_res = l.AA_type_encoder(AAs_res) + l.AA_idx_encoder(AA \n",
    "\n",
    "    # Sidechain atom embeddings\n",
    "    x_atom = l.atomxyz_encoder(atom_xyz) + l.AA_type_encoder(AAs_atom) + l.atom_type_encoder(atom_name)\n",
    "\n",
    "    \n",
    "    for i in 1:length(l.atom_transformers)\n",
    "        # Pass through backbone transformer stack\n",
    "        x_res = l.backbone_transformers[i](x_res, backbone_xyz)\n",
    "        \n",
    "        # Pass through atom transformer stack\n",
    "        x_atom = l.atom_transformers[i](x_atom, atom_xyz)\n",
    "        \n",
    "        # Cross attention from backbone to atom stack\n",
    "        x_atom = l.cross_attention_layers[i](x_atom, x_res)\n",
    "    end\n",
    "\n",
    "    # Output (move atoms) -- dense layer\n",
    "    y_atom = l.output_layer(x_atom)\n",
    "\n",
    "    return y_atom\n",
    "end"
   ]
  },
  {
   "cell_type": "markdown",
   "id": "8f5fbd41",
   "metadata": {},
   "source": [
    "## Make model"
   ]
  },
  {
   "cell_type": "code",
   "execution_count": 28,
   "id": "c6474f30",
   "metadata": {},
   "outputs": [],
   "source": [
    "using Flux: onehotbatch"
   ]
  },
  {
   "cell_type": "code",
   "execution_count": 29,
   "id": "2a344452",
   "metadata": {},
   "outputs": [
    {
     "data": {
      "text/plain": [
       "AllAtomModel(\n",
       "  RandomFourierFeatures{Float32, Matrix{Float32}}(Float32[-0.31337827 -7.3964167 … 2.9227424 0.90205204; -5.911216 10.204468 … -9.491757 -6.72175; … ; 3.2447293 8.515508 … 9.808949 5.132442; 0.49914864 8.798216 … 3.5014625 -0.21598397]),\n",
       "  [\n",
       "    Attention(\n",
       "      Dense(24 => 24; bias=false),      \u001b[90m# 576 parameters\u001b[39m\n",
       "      Dense(24 => 24; bias=false),      \u001b[90m# 576 parameters\u001b[39m\n",
       "      Dense(24 => 24; bias=false),      \u001b[90m# 576 parameters\u001b[39m\n",
       "      Dense(24 => 24; bias=false),      \u001b[90m# 576 parameters\u001b[39m\n",
       "      24,\n",
       "      4,\n",
       "      4,\n",
       "      6,\n",
       "    ),\n",
       "    Attention(\n",
       "      Dense(24 => 24; bias=false),      \u001b[90m# 576 parameters\u001b[39m\n",
       "      Dense(24 => 24; bias=false),      \u001b[90m# 576 parameters\u001b[39m\n",
       "      Dense(24 => 24; bias=false),      \u001b[90m# 576 parameters\u001b[39m\n",
       "      Dense(24 => 24; bias=false),      \u001b[90m# 576 parameters\u001b[39m\n",
       "      24,\n",
       "      4,\n",
       "      4,\n",
       "      6,\n",
       "    ),\n",
       "  ],\n",
       "  var\"#28#32\"(),\n",
       "  RandomFourierFeatures{Float32, Matrix{Float32}}(Float32[2.5202048 -1.2118434 … -13.109616 5.948764; -5.991319 -4.535807 … 3.2929516 -7.2812915; … ; 19.947248 3.6882396 … -6.9579268 -2.118556; 0.19064397 -5.31515 … -0.20073041 10.891801]),\n",
       "  Dense(3 => 24),                       \u001b[90m# 96 parameters\u001b[39m\n",
       "  [\n",
       "    NaiveTransformerBlock(\n",
       "      Attention(\n",
       "        Dense(24 => 24; bias=false),    \u001b[90m# 576 parameters\u001b[39m\n",
       "        Dense(24 => 24; bias=false),    \u001b[90m# 576 parameters\u001b[39m\n",
       "        Dense(24 => 24; bias=false),    \u001b[90m# 576 parameters\u001b[39m\n",
       "        Dense(24 => 24; bias=false),    \u001b[90m# 576 parameters\u001b[39m\n",
       "        24,\n",
       "        4,\n",
       "        4,\n",
       "        6,\n",
       "      ),\n",
       "      StarGLU(\n",
       "        Dense(24 => 96; bias=false),    \u001b[90m# 2_304 parameters\u001b[39m\n",
       "        Dense(96 => 24; bias=false),    \u001b[90m# 2_304 parameters\u001b[39m\n",
       "        Dense(24 => 96; bias=false),    \u001b[90m# 2_304 parameters\u001b[39m\n",
       "        NNlib.swish,\n",
       "      ),\n",
       "      RMSNorm{Float32, Vector{Float32}}(Float32[1.0, 1.0, 1.0, 1.0, 1.0, 1.0, 1.0, 1.0, 1.0, 1.0  …  1.0, 1.0, 1.0, 1.0, 1.0, 1.0, 1.0, 1.0, 1.0, 1.0], 1.0f-5),  \u001b[90m# 24 parameters\u001b[39m\n",
       "      RMSNorm{Float32, Vector{Float32}}(Float32[1.0, 1.0, 1.0, 1.0, 1.0, 1.0, 1.0, 1.0, 1.0, 1.0  …  1.0, 1.0, 1.0, 1.0, 1.0, 1.0, 1.0, 1.0, 1.0, 1.0], 1.0f-5),  \u001b[90m# 24 parameters\u001b[39m\n",
       "      NaiveRoPE(10000.0f0),\n",
       "    ),\n",
       "    NaiveTransformerBlock(\n",
       "      Attention(\n",
       "        Dense(24 => 24; bias=false),    \u001b[90m# 576 parameters\u001b[39m\n",
       "        Dense(24 => 24; bias=false),    \u001b[90m# 576 parameters\u001b[39m\n",
       "        Dense(24 => 24; bias=false),    \u001b[90m# 576 parameters\u001b[39m\n",
       "        Dense(24 => 24; bias=false),    \u001b[90m# 576 parameters\u001b[39m\n",
       "        24,\n",
       "        4,\n",
       "        4,\n",
       "        6,\n",
       "      ),\n",
       "      StarGLU(\n",
       "        Dense(24 => 96; bias=false),    \u001b[90m# 2_304 parameters\u001b[39m\n",
       "        Dense(96 => 24; bias=false),    \u001b[90m# 2_304 parameters\u001b[39m\n",
       "        Dense(24 => 96; bias=false),    \u001b[90m# 2_304 parameters\u001b[39m\n",
       "        NNlib.swish,\n",
       "      ),\n",
       "      RMSNorm{Float32, Vector{Float32}}(Float32[1.0, 1.0, 1.0, 1.0, 1.0, 1.0, 1.0, 1.0, 1.0, 1.0  …  1.0, 1.0, 1.0, 1.0, 1.0, 1.0, 1.0, 1.0, 1.0, 1.0], 1.0f-5),  \u001b[90m# 24 parameters\u001b[39m\n",
       "      RMSNorm{Float32, Vector{Float32}}(Float32[1.0, 1.0, 1.0, 1.0, 1.0, 1.0, 1.0, 1.0, 1.0, 1.0  …  1.0, 1.0, 1.0, 1.0, 1.0, 1.0, 1.0, 1.0, 1.0, 1.0], 1.0f-5),  \u001b[90m# 24 parameters\u001b[39m\n",
       "      NaiveRoPE(10000.0f0),\n",
       "    ),\n",
       "  ],\n",
       "  Dense(24 => 3),                       \u001b[90m# 75 parameters\u001b[39m\n",
       "  Dense(3 => 24),                       \u001b[90m# 96 parameters\u001b[39m\n",
       "  [\n",
       "    NaiveTransformerBlock(\n",
       "      Attention(\n",
       "        Dense(24 => 24; bias=false),    \u001b[90m# 576 parameters\u001b[39m\n",
       "        Dense(24 => 24; bias=false),    \u001b[90m# 576 parameters\u001b[39m\n",
       "        Dense(24 => 24; bias=false),    \u001b[90m# 576 parameters\u001b[39m\n",
       "        Dense(24 => 24; bias=false),    \u001b[90m# 576 parameters\u001b[39m\n",
       "        24,\n",
       "        4,\n",
       "        4,\n",
       "        6,\n",
       "      ),\n",
       "      StarGLU(\n",
       "        Dense(24 => 96; bias=false),    \u001b[90m# 2_304 parameters\u001b[39m\n",
       "        Dense(96 => 24; bias=false),    \u001b[90m# 2_304 parameters\u001b[39m\n",
       "        Dense(24 => 96; bias=false),    \u001b[90m# 2_304 parameters\u001b[39m\n",
       "        NNlib.swish,\n",
       "      ),\n",
       "      RMSNorm{Float32, Vector{Float32}}(Float32[1.0, 1.0, 1.0, 1.0, 1.0, 1.0, 1.0, 1.0, 1.0, 1.0  …  1.0, 1.0, 1.0, 1.0, 1.0, 1.0, 1.0, 1.0, 1.0, 1.0], 1.0f-5),  \u001b[90m# 24 parameters\u001b[39m\n",
       "      RMSNorm{Float32, Vector{Float32}}(Float32[1.0, 1.0, 1.0, 1.0, 1.0, 1.0, 1.0, 1.0, 1.0, 1.0  …  1.0, 1.0, 1.0, 1.0, 1.0, 1.0, 1.0, 1.0, 1.0, 1.0], 1.0f-5),  \u001b[90m# 24 parameters\u001b[39m\n",
       "      NaiveRoPE(10000.0f0),\n",
       "    ),\n",
       "    NaiveTransformerBlock(\n",
       "      Attention(\n",
       "        Dense(24 => 24; bias=false),    \u001b[90m# 576 parameters\u001b[39m\n",
       "        Dense(24 => 24; bias=false),    \u001b[90m# 576 parameters\u001b[39m\n",
       "        Dense(24 => 24; bias=false),    \u001b[90m# 576 parameters\u001b[39m\n",
       "        Dense(24 => 24; bias=false),    \u001b[90m# 576 parameters\u001b[39m\n",
       "        24,\n",
       "        4,\n",
       "        4,\n",
       "        6,\n",
       "      ),\n",
       "      StarGLU(\n",
       "        Dense(24 => 96; bias=false),    \u001b[90m# 2_304 parameters\u001b[39m\n",
       "        Dense(96 => 24; bias=false),    \u001b[90m# 2_304 parameters\u001b[39m\n",
       "        Dense(24 => 96; bias=false),    \u001b[90m# 2_304 parameters\u001b[39m\n",
       "        NNlib.swish,\n",
       "      ),\n",
       "      RMSNorm{Float32, Vector{Float32}}(Float32[1.0, 1.0, 1.0, 1.0, 1.0, 1.0, 1.0, 1.0, 1.0, 1.0  …  1.0, 1.0, 1.0, 1.0, 1.0, 1.0, 1.0, 1.0, 1.0, 1.0], 1.0f-5),  \u001b[90m# 24 parameters\u001b[39m\n",
       "      RMSNorm{Float32, Vector{Float32}}(Float32[1.0, 1.0, 1.0, 1.0, 1.0, 1.0, 1.0, 1.0, 1.0, 1.0  …  1.0, 1.0, 1.0, 1.0, 1.0, 1.0, 1.0, 1.0, 1.0, 1.0], 1.0f-5),  \u001b[90m# 24 parameters\u001b[39m\n",
       "      NaiveRoPE(10000.0f0),\n",
       "    ),\n",
       "  ],\n",
       ") \u001b[90m        # Total: 50 trainable arrays, \u001b[39m41_931 parameters,\n",
       "\u001b[90m          # plus 2 non-trainable, 1_248 parameters, summarysize \u001b[39m172.129 KiB."
      ]
     },
     "metadata": {},
     "output_type": "display_data"
    }
   ],
   "source": [
    "p = allatom_dataset[1]\n",
    "\n",
    "AAs_res = onehotbatch(p.AAs, ProteinChains.AMINOACIDS)\n",
    "AAs_atom = onehotbatch(p.AAs[p.atom_res], ProteinChains.AMINOACIDS)\n",
    "backbone_xyz = Float32.(p.backbone_xyz[:, 2, :])\n",
    "atom_xyz = p.atom_xyz\n",
    "atom_name = onehotbatch(p.atom_name, ATOM_TYPES)\n",
    "\n",
    "AAs_res = Flux.batch([AAs_res])\n",
    "AAs_atom = Flux.batch([AAs_atom])\n",
    "backbone_xyz = Flux.batch([backbone_xyz])\n",
    "atom_xyz = Flux.batch([atom_xyz])\n",
    "atom_name = Flux.batch([atom_name])\n",
    "\n",
    "\n",
    "embed_dim = 8 * 3\n",
    "nheads = 4\n",
    "model = AllAtomModel(embed_dim, 2, nheads)\n"
   ]
  },
  {
   "cell_type": "code",
   "execution_count": 31,
   "id": "e1bad6af",
   "metadata": {},
   "outputs": [
    {
     "data": {
      "text/plain": [
       "(:chainids, :AAs, :backbone_xyz, :atom_xyz, :atom_res, :atom_name)"
      ]
     },
     "metadata": {},
     "output_type": "display_data"
    }
   ],
   "source": [
    "allatom_dataset[1] |> propertynames # length(allatom_dataset) = 500"
   ]
  },
  {
   "cell_type": "code",
   "execution_count": 35,
   "id": "78767097",
   "metadata": {},
   "outputs": [
    {
     "name": "stdout",
     "output_type": "stream",
     "text": [
      "(size(AAs_res), size(AAs_atom), size(backbone_xyz), size(atom_xyz), size(atom_name)) = ((21, 284, 1, 1), (21, 4621, 1, 1), (3, 284, 1, 1), (3, 4621, 1, 1), (83, 4621, 1, 1))\n"
     ]
    },
    {
     "data": {
      "text/plain": [
       "((21, 284, 1, 1), (21, 4621, 1, 1), (3, 284, 1, 1), (3, 4621, 1, 1), (83, 4621, 1, 1))"
      ]
     },
     "metadata": {},
     "output_type": "display_data"
    }
   ],
   "source": [
    "AAs_res = Flux.batch([AAs_res])\n",
    "AAs_atom = Flux.batch([AAs_atom])\n",
    "backbone_xyz = Flux.batch([backbone_xyz])\n",
    "atom_xyz = Flux.batch([atom_xyz])\n",
    "atom_name = Flux.batch([atom_name])\n",
    "\n",
    "@show size(AAs_res), size(AAs_atom), size(backbone_xyz), size(atom_xyz), size(atom_name)"
   ]
  },
  {
   "cell_type": "code",
   "execution_count": 36,
   "id": "14e3e933",
   "metadata": {},
   "outputs": [
    {
     "name": "stdout",
     "output_type": "stream",
     "text": [
      "typeof(AAs_res) = OneHotArrays.OneHotArray{UInt32, 3, 4, Array{UInt32, 3}}\n",
      "typeof(AAs_atom) = OneHotArrays.OneHotArray{UInt32, 3, 4, Array{UInt32, 3}}\n",
      "typeof(backbone_xyz) = Array{Float32, 4}\n",
      "typeof(atom_xyz) = Array{Float32, 4}\n",
      "typeof(atom_name) = OneHotArrays.OneHotArray{UInt32, 3, 4, Array{UInt32, 3}}\n"
     ]
    },
    {
     "data": {
      "text/plain": [
       "OneHotArrays.OneHotArray{UInt32, 3, 4, Array{UInt32, 3}}"
      ]
     },
     "metadata": {},
     "output_type": "display_data"
    }
   ],
   "source": [
    "@show typeof(AAs_res) typeof(AAs_atom) typeof(backbone_xyz) typeof(atom_xyz) typeof(atom_name)"
   ]
  },
  {
   "cell_type": "markdown",
   "id": "71ba3d46",
   "metadata": {},
   "source": [
    "## TODO\n",
    "\n",
    "\n",
    "- Training loop\n",
    "- Sampling code\n",
    "- Calpha distance rff for embeddings\n"
   ]
  }
 ],
 "metadata": {
  "kernelspec": {
   "display_name": "Julia 1.11.5",
   "language": "julia",
   "name": "julia-1.11"
  },
  "language_info": {
   "file_extension": ".jl",
   "mimetype": "application/julia",
   "name": "julia",
   "version": "1.11.5"
  }
 },
 "nbformat": 4,
 "nbformat_minor": 5
}
