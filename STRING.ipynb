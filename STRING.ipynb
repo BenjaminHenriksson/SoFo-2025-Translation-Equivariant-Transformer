{
 "cells": [
  {
   "cell_type": "code",
   "execution_count": 1,
   "metadata": {},
   "outputs": [],
   "source": [
    "using Flux, Onion"
   ]
  },
  {
   "cell_type": "code",
   "execution_count": null,
   "metadata": {},
   "outputs": [],
   "source": [
    "struct RoPE{A<:AbstractArray}\n",
    "    cos::A\n",
    "    sin::A\n",
    "end\n",
    "\n",
    "Flux.@layer RoPE trainable=()\n",
    "\n",
    "Base.getindex(rope::RoPE, i) = RoPE(rope.cos[:,i,:,:], rope.sin[:,i,:,:])\n",
    "\n",
    "function RoPE(dim::Int, end_pos::Int; theta::T=10000f0, start_pos=0) where T\n",
    "    freqs = 1f0 ./ (theta .^ (T.(0:2:dim-1)[1:dim÷2] ./ dim))\n",
    "    freqs_complex = cis.(T.(start_pos:end_pos-1) * freqs')\n",
    "    cos = permutedims(real(freqs_complex), (2, 1))  # (head_dim/2, seq_len)\n",
    "    sin = permutedims(imag(freqs_complex), (2, 1))\n",
    "    cos = reshape(cos, (dim÷2, end_pos - start_pos, 1, 1))\n",
    "    sin = reshape(sin, (dim÷2, end_pos - start_pos, 1, 1))\n",
    "    return RoPE(cos, sin)\n",
    "end\n",
    "\n",
    "#----------------------------------\n",
    "\n",
    "struct AxisAlignedRoPE{A<:AbstractArray}\n",
    "    # RoPE matrix -> tensor (one matrix per dim)\n",
    "    cos::A\n",
    "    sin::A\n",
    "end\n",
    "\n",
    "Flux.@layer AxisAlignedRoPE trainable=()\n",
    "\n",
    "Base.getindex(rope::AxisAlignedRoPE, i) = AxisAlignedRoPE(rope.cos[:,i,:,:], rope.sin[:,i,:,:])\n",
    "\n",
    "function AxisAlignedRoPE(dim::Int, coords::{R<:AbstractArray} ; theta::T=10000f0, start_pos=0) where T\n",
    "    freqs = 1f0 ./ (theta .^ (T.(0:2:dim-1)[1:dim÷2] ./ dim))\n",
    "    freqs_complex = cis.(T.(coords) * freqs')\n",
    "    \n"
   ]
  }
 ],
 "metadata": {
  "kernelspec": {
   "display_name": "Julia 1.11.5",
   "language": "julia",
   "name": "julia-1.11"
  },
  "language_info": {
   "file_extension": ".jl",
   "mimetype": "application/julia",
   "name": "julia",
   "version": "1.11.5"
  }
 },
 "nbformat": 4,
 "nbformat_minor": 2
}
